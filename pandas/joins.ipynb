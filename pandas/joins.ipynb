{
 "cells": [
  {
   "cell_type": "code",
   "execution_count": 29,
   "metadata": {
    "collapsed": true
   },
   "outputs": [
    {
     "name": "stdout",
     "output_type": "stream",
     "text": [
      "--------- Pessoas ----------\n       Nome  Idade  pais_id\n0      Todd     32       10\n1     Ryder     76        5\n2    Duncan     77        5\n3    Joseph     90        4\n4      Berk     71        4\n5   Vaughan     62        1\n6     Logan     79        2\n7      Eric     90        3\n8     Jamal     65        3\n9     Ralph     30        2\n10     Gary     25        3\n11   Quamar     60        4\n12     Noah     34        2\n13    Peter     74        3\n14    Rajah     46        5\n15  Brandon     75        5\n16   Sawyer     32        2\n17    Steel     41        1\n18   Palmer     81        5\n19     Joel      7        1\n20  Brenden     87        3\n21    Ethan     86        2\n22   Jordan     15        4\n23  Preston     75        5\n24    Nigel     31        2\n25     Paki     25        2\n26     Lyle     64        1\n27    Macon     37        5\n28   Carter     75        5\n\n--------- Paises ----------\n   pid      nome\n0    1    Brasil\n1    2     Japão\n2    3  Bulgária\n3    4  Alemanha\n4    5   Senegal\n\n--------- Paises (coluna renomeada) ----------\n   pid nome_pais\n0    1    Brasil\n1    2     Japão\n2    3  Bulgária\n3    4  Alemanha\n4    5   Senegal\n"
     ]
    }
   ],
   "source": [
    "def rename_column(df, oldname, newname):\n",
    "    names = list(df.columns)\n",
    "    names[names.index(oldname)] = newname\n",
    "    df.columns = names\n",
    "\n",
    "\n",
    "import pandas as pd\n",
    "import os \n",
    "pessoas = pd.read_csv('./pandas/pessoas.csv')\n",
    "paises = pd.read_csv('./pandas/paises.csv')\n",
    "print('--------- Pessoas ----------')\n",
    "print (pessoas)\n",
    "print('')\n",
    "print('--------- Paises ----------')\n",
    "print (paises)\n",
    "\n",
    "rename_column(paises, 'nome', 'nome_pais')\n",
    "print('')\n",
    "print('--------- Paises (coluna renomeada) ----------')\n",
    "print(paises)"
   ]
  },
  {
   "cell_type": "code",
   "execution_count": 30,
   "metadata": {},
   "outputs": [
    {
     "name": "stdout",
     "output_type": "stream",
     "text": [
      "--------- Pessoas (indexado por pais_id) ----------\n            Nome  Idade\npais_id                \n10          Todd     32\n5          Ryder     76\n5         Duncan     77\n4         Joseph     90\n4           Berk     71\n1        Vaughan     62\n2          Logan     79\n3           Eric     90\n3          Jamal     65\n2          Ralph     30\n3           Gary     25\n4         Quamar     60\n2           Noah     34\n3          Peter     74\n5          Rajah     46\n5        Brandon     75\n2         Sawyer     32\n1          Steel     41\n5         Palmer     81\n1           Joel      7\n3        Brenden     87\n2          Ethan     86\n4         Jordan     15\n5        Preston     75\n2          Nigel     31\n2           Paki     25\n1           Lyle     64\n5          Macon     37\n5         Carter     75\n--------- Paises (indexado por pid)----------\n    nome_pais\npid          \n1      Brasil\n2       Japão\n3    Bulgária\n4    Alemanha\n5     Senegal\n"
     ]
    }
   ],
   "source": [
    "pessoas = pessoas.set_index(['pais_id'])\n",
    "paises = paises.set_index(['pid'])\n",
    "print('--------- Pessoas (indexado por pais_id) ----------')\n",
    "print (pessoas)\n",
    "print('--------- Paises (indexado por pid)----------')\n",
    "print (paises)"
   ]
  },
  {
   "cell_type": "code",
   "execution_count": 31,
   "metadata": {},
   "outputs": [
    {
     "name": "stdout",
     "output_type": "stream",
     "text": [
      "--------- Pessoas (com nomes de paises) ----------\n            Nome  Idade nome_pais\npais_id                          \n10          Todd     32       NaN\n5          Ryder     76   Senegal\n5         Duncan     77   Senegal\n4         Joseph     90  Alemanha\n4           Berk     71  Alemanha\n1        Vaughan     62    Brasil\n2          Logan     79     Japão\n3           Eric     90  Bulgária\n3          Jamal     65  Bulgária\n2          Ralph     30     Japão\n3           Gary     25  Bulgária\n4         Quamar     60  Alemanha\n2           Noah     34     Japão\n3          Peter     74  Bulgária\n5          Rajah     46   Senegal\n5        Brandon     75   Senegal\n2         Sawyer     32     Japão\n1          Steel     41    Brasil\n5         Palmer     81   Senegal\n1           Joel      7    Brasil\n3        Brenden     87  Bulgária\n2          Ethan     86     Japão\n4         Jordan     15  Alemanha\n5        Preston     75   Senegal\n2          Nigel     31     Japão\n2           Paki     25     Japão\n1           Lyle     64    Brasil\n5          Macon     37   Senegal\n5         Carter     75   Senegal\n"
     ]
    }
   ],
   "source": [
    "print('--------- Pessoas (com nomes de paises) ----------')\n",
    "res = pd.concat([pessoas, paises], axis=1, join_axes=[pessoas.index])\n",
    "print(res)"
   ]
  },
  {
   "cell_type": "code",
   "execution_count": null,
   "metadata": {},
   "outputs": [],
   "source": [
    ""
   ]
  }
 ],
 "metadata": {
  "kernelspec": {
   "display_name": "Python 2",
   "language": "python",
   "name": "python2"
  },
  "language_info": {
   "codemirror_mode": {
    "name": "ipython",
    "version": 2.0
   },
   "file_extension": ".py",
   "mimetype": "text/x-python",
   "name": "python",
   "nbconvert_exporter": "python",
   "pygments_lexer": "ipython2",
   "version": "2.7.6"
  }
 },
 "nbformat": 4,
 "nbformat_minor": 0
}